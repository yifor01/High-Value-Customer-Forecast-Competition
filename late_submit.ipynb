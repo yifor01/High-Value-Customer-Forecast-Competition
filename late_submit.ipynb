{
 "cells": [
  {
   "cell_type": "code",
   "execution_count": 1,
   "metadata": {},
   "outputs": [],
   "source": [
    "import datetime\n",
    "import numpy as np\n",
    "import pandas as pd\n",
    "from glob import glob\n",
    "\n",
    "import warnings\n",
    "warnings.simplefilter(\"ignore\")"
   ]
  },
  {
   "cell_type": "code",
   "execution_count": 2,
   "metadata": {},
   "outputs": [
    {
     "data": {
      "text/plain": [
       "['./data2/login.csv',\n",
       " './data2/purchase_detail.csv',\n",
       " './data2/submission.csv',\n",
       " './data2/user_info.csv',\n",
       " './data2/user_label_train.csv']"
      ]
     },
     "execution_count": 2,
     "metadata": {},
     "output_type": "execute_result"
    }
   ],
   "source": [
    "glob('./data2/*')"
   ]
  },
  {
   "cell_type": "markdown",
   "metadata": {},
   "source": [
    "# load data"
   ]
  },
  {
   "cell_type": "code",
   "execution_count": 3,
   "metadata": {},
   "outputs": [],
   "source": [
    "df_login = pd.read_csv('./data2/login.csv')\n",
    "df_user_info = pd.read_csv('./data2/user_info.csv')\n",
    "df_submission = pd.read_csv('./data2/submission.csv')\n",
    "df_user_label_train = pd.read_csv('./data2/user_label_train.csv')\n",
    "df_purchase_detail = pd.read_csv('./data2/purchase_detail.csv')"
   ]
  },
  {
   "cell_type": "code",
   "execution_count": 4,
   "metadata": {},
   "outputs": [],
   "source": [
    "def reduce_mem_usage(df, verbose=True):\n",
    "    numerics = ['int16', 'int32', 'int64', 'float16', 'float32', 'float64']\n",
    "    start_mem = df.memory_usage().sum() / 1024**2    \n",
    "    for col in df.columns:\n",
    "        col_type = df[col].dtypes\n",
    "        if col_type in numerics:\n",
    "            c_min = df[col].min()\n",
    "            c_max = df[col].max()\n",
    "            if str(col_type)[:3] == 'int':\n",
    "                if c_min > np.iinfo(np.int8).min and c_max < np.iinfo(np.int8).max:\n",
    "                    df[col] = df[col].astype(np.int8)\n",
    "                elif c_min > np.iinfo(np.int16).min and c_max < np.iinfo(np.int16).max:\n",
    "                    df[col] = df[col].astype(np.int16)\n",
    "                elif c_min > np.iinfo(np.int32).min and c_max < np.iinfo(np.int32).max:\n",
    "                    df[col] = df[col].astype(np.int32)\n",
    "                elif c_min > np.iinfo(np.int64).min and c_max < np.iinfo(np.int64).max:\n",
    "                    df[col] = df[col].astype(np.int64)  \n",
    "            else:\n",
    "                if c_min > np.finfo(np.float16).min and c_max < np.finfo(np.float16).max:\n",
    "                    df[col] = df[col].astype(np.float16)\n",
    "                elif c_min > np.finfo(np.float32).min and c_max < np.finfo(np.float32).max:\n",
    "                    df[col] = df[col].astype(np.float32)\n",
    "                else:\n",
    "                    df[col] = df[col].astype(np.float64)    \n",
    "    end_mem = df.memory_usage().sum() / 1024**2\n",
    "    if verbose: print('Mem. usage decreased to {:5.2f} Mb ({:.1f}% reduction)'.format(end_mem, 100 * (start_mem - end_mem) / start_mem))\n",
    "    return df"
   ]
  },
  {
   "cell_type": "code",
   "execution_count": 5,
   "metadata": {},
   "outputs": [
    {
     "name": "stdout",
     "output_type": "stream",
     "text": [
      "Mem. usage decreased to 628.64 Mb (45.8% reduction)\n",
      "Mem. usage decreased to  8.14 Mb (57.5% reduction)\n",
      "Mem. usage decreased to  0.29 Mb (50.0% reduction)\n",
      "Mem. usage decreased to  2.04 Mb (68.7% reduction)\n",
      "Mem. usage decreased to 141.21 Mb (52.5% reduction)\n"
     ]
    }
   ],
   "source": [
    "for _df in [df_login,df_user_info,df_submission,df_user_label_train,df_purchase_detail]:\n",
    "    _df = reduce_mem_usage(_df)"
   ]
  },
  {
   "cell_type": "markdown",
   "metadata": {},
   "source": [
    "# feature engineer"
   ]
  },
  {
   "cell_type": "markdown",
   "metadata": {},
   "source": [
    "## df_user_info"
   ]
  },
  {
   "cell_type": "code",
   "execution_count": 6,
   "metadata": {},
   "outputs": [],
   "source": [
    "df_user_info['lifetime'] = pd.to_datetime('2020-07-31') - pd.to_datetime(df_user_info['enroll_time'])\n",
    "df_user_info['lifetime'] = df_user_info['lifetime'].astype('timedelta64[D]')\n",
    "df_user_info['age'] = 2020 - df_user_info['birth_year']"
   ]
  },
  {
   "cell_type": "markdown",
   "metadata": {},
   "source": [
    "## login"
   ]
  },
  {
   "cell_type": "code",
   "execution_count": 7,
   "metadata": {},
   "outputs": [],
   "source": [
    "df_login_feature = df_login.groupby('userid').agg({\n",
    "    'login_times': ['sum', 'min', 'max', 'std', 'mean','median'],\n",
    "    'date': ['count']\n",
    "})\n",
    "df_login_feature.columns = [\"_\".join(x) for x in df_login_feature.columns.ravel()]"
   ]
  },
  {
   "cell_type": "code",
   "execution_count": 8,
   "metadata": {},
   "outputs": [],
   "source": [
    "df = pd.merge(df_user_info, df_login_feature, on='userid', how='inner')"
   ]
  },
  {
   "cell_type": "markdown",
   "metadata": {},
   "source": [
    "##  purchase_detail"
   ]
  },
  {
   "cell_type": "code",
   "execution_count": 9,
   "metadata": {},
   "outputs": [],
   "source": [
    "df_purchase_detail['month'] = df_purchase_detail['grass_date'].str[5:7].astype('int')"
   ]
  },
  {
   "cell_type": "code",
   "execution_count": 10,
   "metadata": {},
   "outputs": [],
   "source": [
    "df_purchase_detail['grass_date'] = pd.to_datetime(df_purchase_detail.grass_date)\n",
    "df_purchase_detail = df_purchase_detail.sort_values(['userid','grass_date'], ascending=[1,1])"
   ]
  },
  {
   "cell_type": "code",
   "execution_count": 11,
   "metadata": {},
   "outputs": [],
   "source": [
    "df_purchase_detail['epochtime'] = (\n",
    "    df_purchase_detail['grass_date'] - datetime.datetime(1970, 1, 1)).dt.total_seconds()\n",
    "df_purchase_detail['amount_per_order'] = df_purchase_detail['total_amount'] / df_purchase_detail['order_count']"
   ]
  },
  {
   "cell_type": "code",
   "execution_count": 12,
   "metadata": {},
   "outputs": [],
   "source": [
    "df_dt = df_purchase_detail[['userid','grass_date']].drop_duplicates()\n",
    "df_dt['dt_diff'] = df_dt.groupby('userid')['grass_date'].diff().astype('timedelta64[D]')"
   ]
  },
  {
   "cell_type": "code",
   "execution_count": 13,
   "metadata": {},
   "outputs": [],
   "source": [
    "df_purchase_dt_diff = df_dt.groupby('userid').agg({\n",
    "    'dt_diff':['sum', 'min', 'max', 'std','mean']\n",
    "})\n",
    "df_purchase_dt_diff.columns = [\"_\".join(x) for x in df_purchase_dt_diff.columns.ravel()]"
   ]
  },
  {
   "cell_type": "code",
   "execution_count": 14,
   "metadata": {},
   "outputs": [],
   "source": [
    "cat_map = df_purchase_detail['category_encoded'].value_counts(normalize=True)\n",
    "df_purchase_detail['cat_encode'] = df_purchase_detail['category_encoded'].map(cat_map)"
   ]
  },
  {
   "cell_type": "code",
   "execution_count": 15,
   "metadata": {},
   "outputs": [],
   "source": [
    "df_purchase_detail_ordersum = pd.crosstab(index=df_purchase_detail['userid'],\n",
    "    columns=df_purchase_detail['category_encoded'],\n",
    "    values=df_purchase_detail['order_count'],\n",
    "    aggfunc='sum',\n",
    "    margins=False).fillna(0)\n",
    "\n",
    "df_purchase_detail_ordersum.columns = [f'ordercount_{x}' for x in df_purchase_detail_ordersum.columns]"
   ]
  },
  {
   "cell_type": "code",
   "execution_count": 16,
   "metadata": {},
   "outputs": [],
   "source": [
    "df_purchase_detail_totalrsum = pd.crosstab(index=df_purchase_detail['userid'],\n",
    "    columns=df_purchase_detail['category_encoded'],\n",
    "    values=df_purchase_detail['total_amount'],\n",
    "    aggfunc='sum',\n",
    "    margins=False).fillna(0)\n",
    "\n",
    "df_purchase_detail_totalrsum.columns = [f'totalcount_{x}' for x in df_purchase_detail_totalrsum.columns]"
   ]
  },
  {
   "cell_type": "code",
   "execution_count": 17,
   "metadata": {},
   "outputs": [],
   "source": [
    "df_purchase_detail_peruserid_count = pd.crosstab(index=df_purchase_detail['userid'],\n",
    "    columns=df_purchase_detail['category_encoded'],\n",
    "    values=df_purchase_detail['order_count'],\n",
    "    aggfunc='count',\n",
    "    margins=False).fillna(0)\n",
    "\n",
    "df_purchase_detail_peruserid_count.columns = [f'count_{x}' for x in df_purchase_detail_peruserid_count.columns]"
   ]
  },
  {
   "cell_type": "code",
   "execution_count": 18,
   "metadata": {},
   "outputs": [],
   "source": [
    "df_purchase_detail_monthamount = pd.crosstab(index=df_purchase_detail['userid'],\n",
    "    columns=df_purchase_detail['month'],\n",
    "    values=df_purchase_detail['total_amount'],\n",
    "    aggfunc='sum',\n",
    "    margins=False).fillna(0)\n",
    "\n",
    "df_purchase_detail_monthamount.columns = [f'monthamount_{x}' for x in df_purchase_detail_monthamount.columns]"
   ]
  },
  {
   "cell_type": "code",
   "execution_count": 19,
   "metadata": {},
   "outputs": [],
   "source": [
    "df_purchase_detail_monthorder = pd.crosstab(index=df_purchase_detail['userid'],\n",
    "    columns=df_purchase_detail['month'],\n",
    "    values=df_purchase_detail['order_count'],\n",
    "    aggfunc='sum',\n",
    "    margins=False).fillna(0)\n",
    "\n",
    "df_purchase_detail_monthorder.columns = [f'monthorder_{x}' for x in df_purchase_detail_monthorder.columns]"
   ]
  },
  {
   "cell_type": "code",
   "execution_count": 20,
   "metadata": {},
   "outputs": [],
   "source": [
    "df_purchase_detail_monthratio = pd.crosstab(index=df_purchase_detail['userid'],\n",
    "    columns=df_purchase_detail['month'],\n",
    "    values=df_purchase_detail['amount_per_order'],\n",
    "    aggfunc='mean',\n",
    "    margins=False).fillna(0)\n",
    "\n",
    "df_purchase_detail_monthratio.columns = [f'monthratio_{x}' for x in df_purchase_detail_monthratio.columns]"
   ]
  },
  {
   "cell_type": "code",
   "execution_count": 21,
   "metadata": {},
   "outputs": [],
   "source": [
    "df_purchase_detail_peruserid = df_purchase_detail.groupby('userid').agg({\n",
    "    'order_count':['count','mean','std','median','sum','max','min'],\n",
    "    'total_amount':['count','mean','std','median','sum','max','min'],\n",
    "    'cat_encode':['sum','mean','std','max','min'],\n",
    "    'amount_per_order':['sum', 'min', 'max', 'std','mean'],\n",
    "    'epochtime':['count','mean','std','median','sum','max','min'],\n",
    "})\n",
    "df_purchase_detail_peruserid.columns = [f'purchase_detail_{x[0]}_{x[1]}' for x in df_purchase_detail_peruserid.columns]"
   ]
  },
  {
   "cell_type": "code",
   "execution_count": 22,
   "metadata": {},
   "outputs": [],
   "source": [
    "def normalization(_df):\n",
    "    return (_df - _df.mean())/_df.std()"
   ]
  },
  {
   "cell_type": "code",
   "execution_count": 23,
   "metadata": {},
   "outputs": [],
   "source": [
    "df_purchase_detail_peruserid = normalization(df_purchase_detail_peruserid)"
   ]
  },
  {
   "cell_type": "code",
   "execution_count": 24,
   "metadata": {},
   "outputs": [],
   "source": [
    "df = pd.merge(df, df_purchase_dt_diff, on='userid', how='inner')\n",
    "df = pd.merge(df, df_purchase_detail_ordersum, on='userid', how='inner')\n",
    "df = pd.merge(df, df_purchase_detail_totalrsum, on='userid', how='inner')\n",
    "df = pd.merge(df, df_purchase_detail_peruserid, on='userid', how='inner')\n",
    "df = pd.merge(df, df_purchase_detail_peruserid_count, on='userid', how='inner')\n",
    "\n",
    "df = pd.merge(df, df_purchase_detail_monthamount, on='userid', how='inner')\n",
    "df = pd.merge(df, df_purchase_detail_monthorder, on='userid', how='inner')\n",
    "df = pd.merge(df, df_purchase_detail_monthratio, on='userid', how='inner')"
   ]
  },
  {
   "cell_type": "code",
   "execution_count": 25,
   "metadata": {},
   "outputs": [],
   "source": [
    "df = pd.merge(df, df_user_label_train, on='userid', how='outer')"
   ]
  },
  {
   "cell_type": "code",
   "execution_count": 26,
   "metadata": {},
   "outputs": [
    {
     "name": "stdout",
     "output_type": "stream",
     "text": [
      "Mem. usage decreased to 153.73 Mb (70.0% reduction)\n"
     ]
    }
   ],
   "source": [
    "df = reduce_mem_usage(df)"
   ]
  },
  {
   "cell_type": "markdown",
   "metadata": {},
   "source": [
    "# model"
   ]
  },
  {
   "cell_type": "code",
   "execution_count": 27,
   "metadata": {},
   "outputs": [],
   "source": [
    "x = [x for x in df.columns if x not in ['userid','birth_year','label','enroll_time']]\n",
    "y = 'label'"
   ]
  },
  {
   "cell_type": "code",
   "execution_count": 58,
   "metadata": {},
   "outputs": [],
   "source": [
    "from sklearn.model_selection import GridSearchCV,cross_val_score,train_test_split\n",
    "\n",
    "df['gender'] = (df['gender'].fillna(-1)).astype('int')\n",
    "df['is_seller'] = (df['is_seller'].fillna(-1)).astype('int')\n",
    "\n",
    "X_train, X_valid, y_train, y_valid = train_test_split(\n",
    "    df[df.label.notnull()][x], df[df.label.notnull()][y], test_size=0.2, random_state=2048)\n",
    "\n",
    "X_all, y_all = df[df.label.notnull()][x].values , df[df.label.notnull()][y].values.astype('int')"
   ]
  },
  {
   "cell_type": "code",
   "execution_count": 59,
   "metadata": {},
   "outputs": [],
   "source": [
    "X_test = df[df.label.isnull()][x].values"
   ]
  },
  {
   "cell_type": "code",
   "execution_count": 30,
   "metadata": {},
   "outputs": [
    {
     "data": {
      "text/plain": [
       "134"
      ]
     },
     "execution_count": 30,
     "metadata": {},
     "output_type": "execute_result"
    }
   ],
   "source": [
    "len(x)"
   ]
  },
  {
   "cell_type": "markdown",
   "metadata": {},
   "source": [
    "## xgb"
   ]
  },
  {
   "cell_type": "code",
   "execution_count": 31,
   "metadata": {},
   "outputs": [],
   "source": [
    "import gc\n",
    "from bayes_opt import BayesianOptimization\n",
    "from xgboost import XGBClassifier\n",
    "\n",
    "n_folds = 5\n",
    "\n",
    "def xgb_eval(gamma, max_depth,min_child_weight,scale_pos_weight,#num_leaves\n",
    "             colsample_bytree,subsample):\n",
    "    fit_params={'early_stopping_rounds': 100, \n",
    "                'verbose': False,\n",
    "                'eval_set':[[X_valid,y_valid]]}\n",
    "    clf = XGBClassifier(learning_rate=0.03,\n",
    "                        n_estimators=1000,\n",
    "                        tree_method='gpu_hist',\n",
    "                        gpu_id='1',\n",
    "                        max_depth=int(max_depth),\n",
    "                        #num_leaves = int(num_leaves),\n",
    "                        gamma = gamma,\n",
    "                        scale_pos_weight=scale_pos_weight,\n",
    "                        min_child_weight=min_child_weight, \n",
    "                        subsample=subsample, \n",
    "                        colsample_bytree=colsample_bytree,\n",
    "                        #eval_metric='auc',\n",
    "                        #verbose = 0,\n",
    "                        n_jobs=10,\n",
    "                        seed=666)\n",
    "    cv_result = cross_val_score(estimator=clf,\n",
    "                                X=X_train,\n",
    "                                y=y_train,\n",
    "                                scoring='roc_auc',\n",
    "                                cv=n_folds, \n",
    "                                fit_params = fit_params,\n",
    "                                verbose=0, \n",
    "                                n_jobs=1)    \n",
    "    return cv_result.mean()\n",
    "\n",
    "xgbBO = BayesianOptimization(xgb_eval, {'gamma':(0,1),\n",
    "                                        #'num_leaves': (24, 45),\n",
    "                                        'scale_pos_weight':(1,3),\n",
    "                                        'max_depth': (3, 20),\n",
    "                                        'min_child_weight': (2, 20),\n",
    "                                        'colsample_bytree':(0.3,0.9),\n",
    "                                        'subsample':(0.3,0.9)\n",
    "                                        }, \n",
    "                             random_state=0)"
   ]
  },
  {
   "cell_type": "code",
   "execution_count": 32,
   "metadata": {
    "scrolled": true
   },
   "outputs": [
    {
     "name": "stdout",
     "output_type": "stream",
     "text": [
      "Bayesian Optimization Start\n",
      "|   iter    |  target   | colsam... |   gamma   | max_depth | min_ch... | scale_... | subsample |\n",
      "-------------------------------------------------------------------------------------------------\n",
      "| \u001b[0m 1       \u001b[0m | \u001b[0m 0.6918  \u001b[0m | \u001b[0m 0.6293  \u001b[0m | \u001b[0m 0.7152  \u001b[0m | \u001b[0m 13.25   \u001b[0m | \u001b[0m 11.81   \u001b[0m | \u001b[0m 1.847   \u001b[0m | \u001b[0m 0.6875  \u001b[0m |\n",
      "| \u001b[0m 2       \u001b[0m | \u001b[0m 0.6829  \u001b[0m | \u001b[0m 0.5626  \u001b[0m | \u001b[0m 0.8918  \u001b[0m | \u001b[0m 19.38   \u001b[0m | \u001b[0m 8.902   \u001b[0m | \u001b[0m 2.583   \u001b[0m | \u001b[0m 0.6173  \u001b[0m |\n",
      "| \u001b[95m 3       \u001b[0m | \u001b[95m 0.6992  \u001b[0m | \u001b[95m 0.6408  \u001b[0m | \u001b[95m 0.9256  \u001b[0m | \u001b[95m 4.208   \u001b[0m | \u001b[95m 3.568   \u001b[0m | \u001b[95m 1.04    \u001b[0m | \u001b[95m 0.7996  \u001b[0m |\n",
      "| \u001b[0m 4       \u001b[0m | \u001b[0m 0.686   \u001b[0m | \u001b[0m 0.7669  \u001b[0m | \u001b[0m 0.87    \u001b[0m | \u001b[0m 19.64   \u001b[0m | \u001b[0m 16.38   \u001b[0m | \u001b[0m 1.923   \u001b[0m | \u001b[0m 0.7683  \u001b[0m |\n",
      "| \u001b[0m 5       \u001b[0m | \u001b[0m 0.6943  \u001b[0m | \u001b[0m 0.371   \u001b[0m | \u001b[0m 0.6399  \u001b[0m | \u001b[0m 5.437   \u001b[0m | \u001b[0m 19.0    \u001b[0m | \u001b[0m 2.044   \u001b[0m | \u001b[0m 0.5488  \u001b[0m |\n",
      "| \u001b[0m 6       \u001b[0m | \u001b[0m 0.6984  \u001b[0m | \u001b[0m 0.3     \u001b[0m | \u001b[0m 0.0     \u001b[0m | \u001b[0m 3.0     \u001b[0m | \u001b[0m 9.835   \u001b[0m | \u001b[0m 3.0     \u001b[0m | \u001b[0m 0.3     \u001b[0m |\n",
      "| \u001b[0m 7       \u001b[0m | \u001b[0m 0.6925  \u001b[0m | \u001b[0m 0.9     \u001b[0m | \u001b[0m 0.0     \u001b[0m | \u001b[0m 8.052   \u001b[0m | \u001b[0m 2.0     \u001b[0m | \u001b[0m 3.0     \u001b[0m | \u001b[0m 0.3     \u001b[0m |\n",
      "| \u001b[95m 8       \u001b[0m | \u001b[95m 0.6995  \u001b[0m | \u001b[95m 0.9     \u001b[0m | \u001b[95m 1.0     \u001b[0m | \u001b[95m 5.757   \u001b[0m | \u001b[95m 8.724   \u001b[0m | \u001b[95m 1.0     \u001b[0m | \u001b[95m 0.9     \u001b[0m |\n",
      "| \u001b[0m 9       \u001b[0m | \u001b[0m 0.6983  \u001b[0m | \u001b[0m 0.3     \u001b[0m | \u001b[0m 1.0     \u001b[0m | \u001b[0m 3.0     \u001b[0m | \u001b[0m 7.07    \u001b[0m | \u001b[0m 1.0     \u001b[0m | \u001b[0m 0.9     \u001b[0m |\n",
      "| \u001b[0m 10      \u001b[0m | \u001b[0m 0.6985  \u001b[0m | \u001b[0m 0.9     \u001b[0m | \u001b[0m 1.0     \u001b[0m | \u001b[0m 3.0     \u001b[0m | \u001b[0m 13.51   \u001b[0m | \u001b[0m 1.0     \u001b[0m | \u001b[0m 0.9     \u001b[0m |\n",
      "| \u001b[0m 11      \u001b[0m | \u001b[0m 0.6992  \u001b[0m | \u001b[0m 0.3     \u001b[0m | \u001b[0m 0.0     \u001b[0m | \u001b[0m 6.902   \u001b[0m | \u001b[0m 12.68   \u001b[0m | \u001b[0m 1.0     \u001b[0m | \u001b[0m 0.3     \u001b[0m |\n",
      "| \u001b[95m 12      \u001b[0m | \u001b[95m 0.6996  \u001b[0m | \u001b[95m 0.9     \u001b[0m | \u001b[95m 1.0     \u001b[0m | \u001b[95m 6.34    \u001b[0m | \u001b[95m 12.24   \u001b[0m | \u001b[95m 3.0     \u001b[0m | \u001b[95m 0.9     \u001b[0m |\n",
      "| \u001b[0m 13      \u001b[0m | \u001b[0m 0.6981  \u001b[0m | \u001b[0m 0.9     \u001b[0m | \u001b[0m 1.0     \u001b[0m | \u001b[0m 3.0     \u001b[0m | \u001b[0m 2.0     \u001b[0m | \u001b[0m 1.0     \u001b[0m | \u001b[0m 0.9     \u001b[0m |\n",
      "| \u001b[0m 14      \u001b[0m | \u001b[0m 0.6974  \u001b[0m | \u001b[0m 0.3     \u001b[0m | \u001b[0m 1.0     \u001b[0m | \u001b[0m 7.015   \u001b[0m | \u001b[0m 9.102   \u001b[0m | \u001b[0m 3.0     \u001b[0m | \u001b[0m 0.3     \u001b[0m |\n",
      "| \u001b[0m 15      \u001b[0m | \u001b[0m 0.6994  \u001b[0m | \u001b[0m 0.9     \u001b[0m | \u001b[0m 0.0     \u001b[0m | \u001b[0m 4.933   \u001b[0m | \u001b[0m 11.15   \u001b[0m | \u001b[0m 1.0     \u001b[0m | \u001b[0m 0.9     \u001b[0m |\n",
      "=================================================================================================\n",
      "Bayesian Optimization End\n",
      "{'target': 0.6995654946280008, 'params': {'colsample_bytree': 0.9, 'gamma': 1.0, 'max_depth': 6.340463019386621, 'min_child_weight': 12.238617986542883, 'scale_pos_weight': 3.0, 'subsample': 0.9}}\n"
     ]
    }
   ],
   "source": [
    "print('Bayesian Optimization Start')\n",
    "xgbBO.maximize(init_points=5 , n_iter=10)\n",
    "print('Bayesian Optimization End')\n",
    "print(xgbBO.max)"
   ]
  },
  {
   "cell_type": "code",
   "execution_count": 33,
   "metadata": {},
   "outputs": [],
   "source": [
    "model = XGBClassifier(learning_rate=0.03,\n",
    "                      n_estimators=1000,\n",
    "                      tree_method='gpu_hist',\n",
    "                      gpu_id='1',\n",
    "                      max_depth=int(xgbBO.max['params']['max_depth']),\n",
    "                      gamma=xgbBO.max['params']['gamma'],\n",
    "                      min_child_weight=xgbBO.max['params']['min_child_weight'],\n",
    "                      subsample=xgbBO.max['params']['subsample'],\n",
    "                      colsample_bytree=xgbBO.max['params']['colsample_bytree'],\n",
    "                      n_jobs=10)"
   ]
  },
  {
   "cell_type": "code",
   "execution_count": 34,
   "metadata": {},
   "outputs": [
    {
     "data": {
      "text/plain": [
       "XGBClassifier(base_score=0.5, booster='gbtree', colsample_bylevel=1,\n",
       "              colsample_bynode=1, colsample_bytree=0.9, gamma=1.0, gpu_id='1',\n",
       "              importance_type='gain', interaction_constraints='',\n",
       "              learning_rate=0.03, max_delta_step=0, max_depth=6,\n",
       "              min_child_weight=12.238617986542883, missing=nan,\n",
       "              monotone_constraints='(0,0,0,0,0,0,0,0,0,0,0,0,0,0,0,0,0,0,0,0,0,0,0,0,0,0,0,...,0,0,0,0,0,0,0,0,0,0,0,0,0,0,0,0,0,0,0,0,0,0,0,0,0,0,0,0,0,0,0,0,0,0,0,0,0,0,0,0,0,0,0,0,0,0,0,0,0,0,0,0,0,0,0,0,0,0,0,0,0,0,0,0,0,0,0,0,0,0,0,0,0,0,0,0,0,0,0,0,0,0,0)',\n",
       "              n_estimators=1000, n_jobs=10, num_parallel_tree=1, random_state=0,\n",
       "              reg_alpha=0, reg_lambda=1, scale_pos_weight=1, subsample=0.9,\n",
       "              tree_method='gpu_hist', validate_parameters=1, verbosity=None)"
      ]
     },
     "execution_count": 34,
     "metadata": {},
     "output_type": "execute_result"
    }
   ],
   "source": [
    "model.fit(X_all,y_all)"
   ]
  },
  {
   "cell_type": "markdown",
   "metadata": {},
   "source": [
    "## lgb"
   ]
  },
  {
   "cell_type": "code",
   "execution_count": 35,
   "metadata": {},
   "outputs": [],
   "source": [
    "import lightgbm as lgb\n",
    "lgb_data = lgb.Dataset(data=X_all, label= y_all)\n",
    "n_folds, random_seed = 5, 666\n",
    "\n",
    "def lgb_eval(feature_fraction, bagging_fraction, max_depth, scale_pos_weight, #subsample_for_bin,num_leaves\n",
    "             lambda_l1, lambda_l2, min_split_gain, min_child_weight):\n",
    "    params = {'objective': 'binary',\n",
    "              'num_iterations': 1000,\n",
    "              'learning_rate': 0.03,\n",
    "              'metric':'auc',\n",
    "              'boosting':'dart', # magic parameter\n",
    "              'max_bin':256,     # magic parameter\n",
    "              'n_jobs': 75}\n",
    "    #params[\"subsample_for_bin\"] = int(subsample_for_bin)\n",
    "    #params[\"num_leaves\"] = int(num_leaves)\n",
    "    params['feature_fraction'] = max(min(feature_fraction, 1), 0)\n",
    "    params['bagging_fraction'] = max(min(bagging_fraction, 1), 0)\n",
    "    params['max_depth'] = int(max_depth)\n",
    "    params['lambda_l1'] = max(lambda_l1, 0)\n",
    "    params['lambda_l2'] = max(lambda_l2, 0)\n",
    "    params['scale_pos_weight'] = scale_pos_weight\n",
    "    params['min_split_gain'] = min_split_gain\n",
    "    params['min_child_weight'] = min_child_weight\n",
    "    cv_result = lgb.cv(params, lgb_data, nfold=n_folds, early_stopping_rounds=100,\n",
    "                       seed=random_seed, stratified=True)\n",
    "    return max(cv_result['auc-mean'])\n",
    "\n",
    "lgbBO = BayesianOptimization(lgb_eval, {#'num_leaves': (24, 60),\n",
    "                                        'feature_fraction': (0.1, 0.9),\n",
    "                                        'bagging_fraction': (0.5, 1),\n",
    "                                        'max_depth': (4, 15),\n",
    "                                        'scale_pos_weight':(1,2),\n",
    "                                        #'subsample_for_bin': (3000, 6000),\n",
    "                                        'lambda_l1': (0, 1),\n",
    "                                        'lambda_l2': (0, 1),\n",
    "                                        'min_split_gain': (0.001, 0.5),\n",
    "                                        'min_child_weight': (5, 50)}, random_state=0)"
   ]
  },
  {
   "cell_type": "code",
   "execution_count": 36,
   "metadata": {},
   "outputs": [
    {
     "name": "stdout",
     "output_type": "stream",
     "text": [
      "Bayesian Optimzation Start\n",
      "|   iter    |  target   | baggin... | featur... | lambda_l1 | lambda_l2 | max_depth | min_ch... | min_sp... | scale_... |\n",
      "-------------------------------------------------------------------------------------------------------------------------\n",
      "| \u001b[0m 1       \u001b[0m | \u001b[0m 0.6994  \u001b[0m | \u001b[0m 0.7744  \u001b[0m | \u001b[0m 0.6722  \u001b[0m | \u001b[0m 0.6028  \u001b[0m | \u001b[0m 0.5449  \u001b[0m | \u001b[0m 8.66    \u001b[0m | \u001b[0m 34.07   \u001b[0m | \u001b[0m 0.2194  \u001b[0m | \u001b[0m 1.892   \u001b[0m |\n",
      "| \u001b[0m 2       \u001b[0m | \u001b[0m 0.6993  \u001b[0m | \u001b[0m 0.9818  \u001b[0m | \u001b[0m 0.4068  \u001b[0m | \u001b[0m 0.7917  \u001b[0m | \u001b[0m 0.5289  \u001b[0m | \u001b[0m 10.25   \u001b[0m | \u001b[0m 46.65   \u001b[0m | \u001b[0m 0.03645 \u001b[0m | \u001b[0m 1.087   \u001b[0m |\n",
      "| \u001b[95m 3       \u001b[0m | \u001b[95m 0.6994  \u001b[0m | \u001b[95m 0.5101  \u001b[0m | \u001b[95m 0.7661  \u001b[0m | \u001b[95m 0.7782  \u001b[0m | \u001b[95m 0.87    \u001b[0m | \u001b[95m 14.76   \u001b[0m | \u001b[95m 40.96   \u001b[0m | \u001b[95m 0.2313  \u001b[0m | \u001b[95m 1.781   \u001b[0m |\n",
      "| \u001b[95m 4       \u001b[0m | \u001b[95m 0.6995  \u001b[0m | \u001b[95m 0.5591  \u001b[0m | \u001b[95m 0.6119  \u001b[0m | \u001b[95m 0.1434  \u001b[0m | \u001b[95m 0.9447  \u001b[0m | \u001b[95m 9.74    \u001b[0m | \u001b[95m 23.66   \u001b[0m | \u001b[95m 0.133   \u001b[0m | \u001b[95m 1.774   \u001b[0m |\n",
      "| \u001b[0m 5       \u001b[0m | \u001b[0m 0.6994  \u001b[0m | \u001b[0m 0.7281  \u001b[0m | \u001b[0m 0.5547  \u001b[0m | \u001b[0m 0.01879 \u001b[0m | \u001b[0m 0.6176  \u001b[0m | \u001b[0m 10.73   \u001b[0m | \u001b[0m 32.76   \u001b[0m | \u001b[0m 0.4719  \u001b[0m | \u001b[0m 1.682   \u001b[0m |\n",
      "| \u001b[95m 6       \u001b[0m | \u001b[95m 0.6995  \u001b[0m | \u001b[95m 0.9479  \u001b[0m | \u001b[95m 0.5727  \u001b[0m | \u001b[95m 0.1374  \u001b[0m | \u001b[95m 0.5319  \u001b[0m | \u001b[95m 11.45   \u001b[0m | \u001b[95m 26.98   \u001b[0m | \u001b[95m 0.03258 \u001b[0m | \u001b[95m 1.571   \u001b[0m |\n",
      "| \u001b[0m 7       \u001b[0m | \u001b[0m 0.6994  \u001b[0m | \u001b[0m 0.5308  \u001b[0m | \u001b[0m 0.4562  \u001b[0m | \u001b[0m 0.4457  \u001b[0m | \u001b[0m 0.8318  \u001b[0m | \u001b[0m 14.91   \u001b[0m | \u001b[0m 23.86   \u001b[0m | \u001b[0m 0.2542  \u001b[0m | \u001b[0m 1.578   \u001b[0m |\n",
      "| \u001b[0m 8       \u001b[0m | \u001b[0m 0.6988  \u001b[0m | \u001b[0m 0.6426  \u001b[0m | \u001b[0m 0.303   \u001b[0m | \u001b[0m 0.2652  \u001b[0m | \u001b[0m 0.06629 \u001b[0m | \u001b[0m 6.735   \u001b[0m | \u001b[0m 26.98   \u001b[0m | \u001b[0m 0.1684  \u001b[0m | \u001b[0m 1.284   \u001b[0m |\n",
      "| \u001b[0m 9       \u001b[0m | \u001b[0m 0.6995  \u001b[0m | \u001b[0m 0.5675  \u001b[0m | \u001b[0m 0.6991  \u001b[0m | \u001b[0m 0.3551  \u001b[0m | \u001b[0m 0.6285  \u001b[0m | \u001b[0m 11.54   \u001b[0m | \u001b[0m 25.1    \u001b[0m | \u001b[0m 0.1734  \u001b[0m | \u001b[0m 1.855   \u001b[0m |\n",
      "| \u001b[0m 10      \u001b[0m | \u001b[0m 0.6991  \u001b[0m | \u001b[0m 0.8468  \u001b[0m | \u001b[0m 0.2603  \u001b[0m | \u001b[0m 0.3324  \u001b[0m | \u001b[0m 0.5244  \u001b[0m | \u001b[0m 14.34   \u001b[0m | \u001b[0m 27.98   \u001b[0m | \u001b[0m 0.1696  \u001b[0m | \u001b[0m 2.0     \u001b[0m |\n",
      "| \u001b[0m 11      \u001b[0m | \u001b[0m 0.6995  \u001b[0m | \u001b[0m 0.9516  \u001b[0m | \u001b[0m 0.5613  \u001b[0m | \u001b[0m 0.514   \u001b[0m | \u001b[0m 0.8036  \u001b[0m | \u001b[0m 11.76   \u001b[0m | \u001b[0m 22.45   \u001b[0m | \u001b[0m 0.1113  \u001b[0m | \u001b[0m 1.571   \u001b[0m |\n",
      "| \u001b[0m 12      \u001b[0m | \u001b[0m 0.6994  \u001b[0m | \u001b[0m 0.7999  \u001b[0m | \u001b[0m 0.6577  \u001b[0m | \u001b[0m 0.9491  \u001b[0m | \u001b[0m 0.888   \u001b[0m | \u001b[0m 9.491   \u001b[0m | \u001b[0m 20.76   \u001b[0m | \u001b[0m 0.3651  \u001b[0m | \u001b[0m 1.995   \u001b[0m |\n",
      "| \u001b[0m 13      \u001b[0m | \u001b[0m 0.6994  \u001b[0m | \u001b[0m 0.6028  \u001b[0m | \u001b[0m 0.4704  \u001b[0m | \u001b[0m 0.5829  \u001b[0m | \u001b[0m 0.4673  \u001b[0m | \u001b[0m 14.16   \u001b[0m | \u001b[0m 20.27   \u001b[0m | \u001b[0m 0.4706  \u001b[0m | \u001b[0m 1.408   \u001b[0m |\n",
      "| \u001b[0m 14      \u001b[0m | \u001b[0m 0.699   \u001b[0m | \u001b[0m 0.7201  \u001b[0m | \u001b[0m 0.2229  \u001b[0m | \u001b[0m 0.2481  \u001b[0m | \u001b[0m 0.413   \u001b[0m | \u001b[0m 11.59   \u001b[0m | \u001b[0m 18.1    \u001b[0m | \u001b[0m 0.4992  \u001b[0m | \u001b[0m 1.525   \u001b[0m |\n",
      "| \u001b[0m 15      \u001b[0m | \u001b[0m 0.699   \u001b[0m | \u001b[0m 0.9762  \u001b[0m | \u001b[0m 0.2738  \u001b[0m | \u001b[0m 0.7281  \u001b[0m | \u001b[0m 0.0113  \u001b[0m | \u001b[0m 14.45   \u001b[0m | \u001b[0m 22.05   \u001b[0m | \u001b[0m 0.1759  \u001b[0m | \u001b[0m 1.558   \u001b[0m |\n",
      "=========================================================================================================================\n",
      "Bayesian Optimzation End\n"
     ]
    }
   ],
   "source": [
    "print('Bayesian Optimzation Start')\n",
    "lgbBO.maximize(init_points=5, n_iter=10)\n",
    "print('Bayesian Optimzation End')"
   ]
  },
  {
   "cell_type": "code",
   "execution_count": 37,
   "metadata": {},
   "outputs": [
    {
     "data": {
      "text/plain": [
       "LGBMClassifier(bagging_fraction=0.9479309414899773,\n",
       "               feature_fraction=0.5726969041872401,\n",
       "               lambda_l1=0.13744679824568462, lambda_l2=0.531871524132905,\n",
       "               learning_rate=0.03, max_depth=11,\n",
       "               min_child_weight=26.97691050825829,\n",
       "               min_split_gain=0.03258088585236473, n_jobs=50,\n",
       "               num_iterations=1000, objective='binary', seed=666)"
      ]
     },
     "execution_count": 37,
     "metadata": {},
     "output_type": "execute_result"
    }
   ],
   "source": [
    "from lightgbm import LGBMClassifier\n",
    "\n",
    "lgb_model = LGBMClassifier(learning_rate=0.03,\n",
    "                           num_iterations=1000,\n",
    "                           bagging_fraction=lgbBO.max['params']['bagging_fraction'],\n",
    "                           feature_fraction=lgbBO.max['params']['feature_fraction'],\n",
    "                           lambda_l1=lgbBO.max['params']['lambda_l1'],\n",
    "                           lambda_l2=lgbBO.max['params']['lambda_l2'],\n",
    "                           max_depth=int(lgbBO.max['params']['max_depth']),\n",
    "                           min_child_weight=lgbBO.max['params']['min_child_weight'],\n",
    "                           min_split_gain=lgbBO.max['params']['min_split_gain'],\n",
    "                           #num_leaves=int(lgbBO.max['params']['num_leaves']),\n",
    "                           objective='binary',\n",
    "                           n_jobs=50,\n",
    "                           seed=666)\n",
    "\n",
    "lgb_model.fit(X_all,y_all)"
   ]
  },
  {
   "cell_type": "markdown",
   "metadata": {},
   "source": [
    "## cat"
   ]
  },
  {
   "cell_type": "code",
   "execution_count": 60,
   "metadata": {
    "scrolled": true
   },
   "outputs": [
    {
     "data": {
      "text/plain": [
       "<catboost.core.CatBoostClassifier at 0x7f0cf158bfd0>"
      ]
     },
     "execution_count": 60,
     "metadata": {},
     "output_type": "execute_result"
    }
   ],
   "source": [
    "from catboost import CatBoostClassifier\n",
    "cat_idx = [0,1]\n",
    "cat_model = CatBoostClassifier(eval_metric='AUC', \n",
    "                               random_seed=42,\n",
    "                               learning_rate=0.02,\n",
    "                               depth=7,\n",
    "                               l2_leaf_reg=40,\n",
    "                               iterations=1500,\n",
    "                               bootstrap_type='Bernoulli',\n",
    "                               subsample=0.8,\n",
    "                               task_type = \"GPU\",\n",
    "                               devices=\"1\",\n",
    "                               verbose=False,\n",
    "                               scale_pos_weight=280944/145888)\n",
    "#cat_model.fit(X_train,y_train,eval_set=(X_valid,y_valid),\n",
    "#              cat_features=cat_idx,verbose=False)\n",
    "\n",
    "cat_model.fit(X_all, y_all,verbose_eval=False)"
   ]
  },
  {
   "cell_type": "markdown",
   "metadata": {},
   "source": [
    "## stack"
   ]
  },
  {
   "cell_type": "code",
   "execution_count": 49,
   "metadata": {},
   "outputs": [],
   "source": [
    "from sklearn.linear_model import LogisticRegression\n",
    "from sklearn.pipeline import make_pipeline\n",
    "from sklearn.ensemble import StackingClassifier\n",
    "estimators = [\n",
    "    ('xgb', model),\n",
    "    ('lgb', lgb_model),\n",
    "    ('cat', cat_model)\n",
    "]\n",
    "clf = StackingClassifier(\n",
    "    estimators=estimators, final_estimator=LogisticRegression(), cv=5\n",
    ")"
   ]
  },
  {
   "cell_type": "code",
   "execution_count": 50,
   "metadata": {
    "scrolled": true
   },
   "outputs": [
    {
     "data": {
      "text/plain": [
       "StackingClassifier(cv=5,\n",
       "                   estimators=[('xgb',\n",
       "                                XGBClassifier(base_score=0.5, booster='gbtree',\n",
       "                                              colsample_bylevel=1,\n",
       "                                              colsample_bynode=1,\n",
       "                                              colsample_bytree=0.9, gamma=1.0,\n",
       "                                              gpu_id='1',\n",
       "                                              importance_type='gain',\n",
       "                                              interaction_constraints='',\n",
       "                                              learning_rate=0.03,\n",
       "                                              max_delta_step=0, max_depth=6,\n",
       "                                              min_child_weight=12.238617986542883,\n",
       "                                              missing=nan,\n",
       "                                              monotone_constraints='(0,0,0,0,0,0...\n",
       "                                               feature_fraction=0.5726969041872401,\n",
       "                                               lambda_l1=0.13744679824568462,\n",
       "                                               lambda_l2=0.531871524132905,\n",
       "                                               learning_rate=0.03, max_depth=11,\n",
       "                                               min_child_weight=26.97691050825829,\n",
       "                                               min_split_gain=0.03258088585236473,\n",
       "                                               n_jobs=50, num_iterations=1000,\n",
       "                                               objective='binary', seed=666)),\n",
       "                               ('cat',\n",
       "                                <catboost.core.CatBoostClassifier object at 0x7f0a9c3dcf28>)],\n",
       "                   final_estimator=LogisticRegression())"
      ]
     },
     "execution_count": 50,
     "metadata": {},
     "output_type": "execute_result"
    }
   ],
   "source": [
    "clf.fit(X_all, y_all)"
   ]
  },
  {
   "cell_type": "code",
   "execution_count": null,
   "metadata": {},
   "outputs": [],
   "source": []
  },
  {
   "cell_type": "code",
   "execution_count": null,
   "metadata": {},
   "outputs": [],
   "source": []
  },
  {
   "cell_type": "markdown",
   "metadata": {},
   "source": [
    "# mixture"
   ]
  },
  {
   "cell_type": "code",
   "execution_count": 51,
   "metadata": {},
   "outputs": [],
   "source": [
    "xgb_pred = model.predict_proba(X_test)[:,1].reshape(-1)"
   ]
  },
  {
   "cell_type": "code",
   "execution_count": 52,
   "metadata": {},
   "outputs": [],
   "source": [
    "lgb_pred = lgb_model.predict_proba(X_test)[:,1].reshape(-1)"
   ]
  },
  {
   "cell_type": "code",
   "execution_count": 61,
   "metadata": {},
   "outputs": [],
   "source": [
    "cat_pred = cat_model.predict_proba(X_test)[:,1].reshape(-1)"
   ]
  },
  {
   "cell_type": "code",
   "execution_count": 62,
   "metadata": {
    "scrolled": true
   },
   "outputs": [],
   "source": [
    "stack_pred = clf.predict_proba(X_test)[:,0].reshape(-1)"
   ]
  },
  {
   "cell_type": "code",
   "execution_count": null,
   "metadata": {},
   "outputs": [],
   "source": []
  },
  {
   "cell_type": "code",
   "execution_count": 63,
   "metadata": {},
   "outputs": [],
   "source": [
    "def output_generate(y_pred):\n",
    "    submit1 = pd.DataFrame({\n",
    "        'userid': df[df.label.isnull()]['userid'].values,\n",
    "        'label':y_pred\n",
    "    })\n",
    "    final = df_submission.merge(submit1)\n",
    "    return final\n",
    "df_submission = pd.read_csv('./data2/submission.csv')"
   ]
  },
  {
   "cell_type": "code",
   "execution_count": 64,
   "metadata": {},
   "outputs": [],
   "source": [
    "output_generate(lgb_pred).to_csv('output_lgb1.csv',index=0)"
   ]
  },
  {
   "cell_type": "code",
   "execution_count": 65,
   "metadata": {},
   "outputs": [],
   "source": [
    "output_generate(xgb_pred).to_csv('output_xgb1.csv',index=0)"
   ]
  },
  {
   "cell_type": "code",
   "execution_count": 66,
   "metadata": {},
   "outputs": [],
   "source": [
    "output_generate(stack_pred).to_csv('output_stack.csv',index=0)"
   ]
  },
  {
   "cell_type": "code",
   "execution_count": 67,
   "metadata": {},
   "outputs": [],
   "source": [
    "output_generate(cat_pred).to_csv('output_cat1.csv',index=0)"
   ]
  },
  {
   "cell_type": "code",
   "execution_count": 68,
   "metadata": {},
   "outputs": [],
   "source": [
    "mix = (xgb_pred+lgb_pred+stack_pred+cat_pred)/4"
   ]
  },
  {
   "cell_type": "code",
   "execution_count": 69,
   "metadata": {},
   "outputs": [],
   "source": [
    "output_generate(mix).to_csv('output_mix4.csv',index=0)"
   ]
  },
  {
   "cell_type": "code",
   "execution_count": null,
   "metadata": {},
   "outputs": [],
   "source": []
  },
  {
   "cell_type": "code",
   "execution_count": null,
   "metadata": {},
   "outputs": [],
   "source": []
  }
 ],
 "metadata": {
  "kernelspec": {
   "display_name": "Python 3",
   "language": "python",
   "name": "python3"
  },
  "language_info": {
   "codemirror_mode": {
    "name": "ipython",
    "version": 3
   },
   "file_extension": ".py",
   "mimetype": "text/x-python",
   "name": "python",
   "nbconvert_exporter": "python",
   "pygments_lexer": "ipython3",
   "version": "3.6.9"
  },
  "toc": {
   "base_numbering": 1,
   "nav_menu": {},
   "number_sections": true,
   "sideBar": true,
   "skip_h1_title": false,
   "title_cell": "Table of Contents",
   "title_sidebar": "Contents",
   "toc_cell": false,
   "toc_position": {},
   "toc_section_display": true,
   "toc_window_display": false
  }
 },
 "nbformat": 4,
 "nbformat_minor": 4
}
